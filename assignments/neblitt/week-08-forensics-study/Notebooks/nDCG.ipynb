{
 "cells": [
  {
   "cell_type": "markdown",
   "metadata": {},
   "source": [
    "# Normalized Discounted Cumulative Gain (nDCG)"
   ]
  },
  {
   "cell_type": "markdown",
   "metadata": {},
   "source": [
    "## Milestone #1 - 100,000 Deaths"
   ]
  },
  {
   "cell_type": "code",
   "execution_count": 2,
   "metadata": {},
   "outputs": [],
   "source": [
    "from sklearn.metrics import ndcg_score"
   ]
  },
  {
   "cell_type": "markdown",
   "metadata": {},
   "source": [
    "### New York Times - May 27, 2020 @ 20:01 UTC\n",
    "https://web.archive.org/web/20200527200119/https://www.nytimes.com/"
   ]
  },
  {
   "cell_type": "code",
   "execution_count": 4,
   "metadata": {},
   "outputs": [
    {
     "data": {
      "text/plain": [
       "1.0"
      ]
     },
     "execution_count": 4,
     "metadata": {},
     "output_type": "execute_result"
    }
   ],
   "source": [
    "y_score = [1, 0, 0, 0, 0, 0]\n",
    "y_true = [1, 0, 0, 0, 0, 0]\n",
    "ndcg_score ([y_true], [y_score])"
   ]
  },
  {
   "cell_type": "markdown",
   "metadata": {},
   "source": [
    "### Washington Post - May 27, 2020 @ 23:03 UTC\n",
    "\n",
    "https://web.archive.org/web/20200527230346/https://www.washingtonpost.com/"
   ]
  },
  {
   "cell_type": "code",
   "execution_count": 5,
   "metadata": {},
   "outputs": [
    {
     "data": {
      "text/plain": [
       "1.0"
      ]
     },
     "execution_count": 5,
     "metadata": {},
     "output_type": "execute_result"
    }
   ],
   "source": [
    "y_score = [1, 1, 0, 0]\n",
    "y_true = [1, 1, 0, 0]\n",
    "ndcg_score ([y_true], [y_score])"
   ]
  },
  {
   "cell_type": "markdown",
   "metadata": {},
   "source": [
    "### CNN - May 28, 2020 @ 01:21 UTC\n",
    "https://web.archive.org/web/20200528012103/https://www.cnn.com/ "
   ]
  },
  {
   "cell_type": "code",
   "execution_count": 6,
   "metadata": {},
   "outputs": [
    {
     "data": {
      "text/plain": [
       "0.7565617171356952"
      ]
     },
     "execution_count": 6,
     "metadata": {},
     "output_type": "execute_result"
    }
   ],
   "source": [
    "y_score = [0, 1, 0, 0, 1, 0]\n",
    "y_true = [1, 1, 0, 0, 0, 0]\n",
    "ndcg_score ([y_true], [y_score])"
   ]
  },
  {
   "cell_type": "markdown",
   "metadata": {},
   "source": [
    "### ABC News - May 27, 2020 @ 22:10 UTC\n",
    "https://web.archive.org/web/20200527221043/https://abcnews.go.com/ "
   ]
  },
  {
   "cell_type": "code",
   "execution_count": 7,
   "metadata": {},
   "outputs": [
    {
     "data": {
      "text/plain": [
       "0.7692798105748722"
      ]
     },
     "execution_count": 7,
     "metadata": {},
     "output_type": "execute_result"
    }
   ],
   "source": [
    "y_score = [1, 0, 0, 0, 1]\n",
    "y_true = [1, 1, 0, 0, 0]\n",
    "ndcg_score ([y_true], [y_score])"
   ]
  },
  {
   "cell_type": "markdown",
   "metadata": {},
   "source": [
    "### Washington Examiner - May 28, 2020 @ 01:14 UTC\n",
    "https://web.archive.org/web/20200528014101/https://www.washingtonexaminer.com/ "
   ]
  },
  {
   "cell_type": "code",
   "execution_count": 8,
   "metadata": {},
   "outputs": [
    {
     "data": {
      "text/plain": [
       "1.0"
      ]
     },
     "execution_count": 8,
     "metadata": {},
     "output_type": "execute_result"
    }
   ],
   "source": [
    "y_score = [1, 0]\n",
    "y_true = [1, 0]\n",
    "ndcg_score ([y_true], [y_score])"
   ]
  },
  {
   "cell_type": "markdown",
   "metadata": {},
   "source": [
    "### Fox News - May 27, 2020 @ 22:13 UTC\n",
    "https://web.archive.org/web/20200527221303/https://www.foxnews.com/"
   ]
  },
  {
   "cell_type": "code",
   "execution_count": 9,
   "metadata": {},
   "outputs": [
    {
     "data": {
      "text/plain": [
       "1.0"
      ]
     },
     "execution_count": 9,
     "metadata": {},
     "output_type": "execute_result"
    }
   ],
   "source": [
    "y_score = [1, 0, 0, 0, 0, 0, 0]\n",
    "y_true = [1, 0, 0, 0, 0, 0, 0]\n",
    "ndcg_score ([y_true], [y_score])"
   ]
  },
  {
   "cell_type": "markdown",
   "metadata": {},
   "source": [
    "## Milestone #2 - 200,000 Deaths"
   ]
  },
  {
   "cell_type": "markdown",
   "metadata": {},
   "source": [
    "### New York Times - Sep 22, 2020 @ 16:52 UTC\n",
    "https://web.archive.org/web/20200922165205/https://www.nytimes.com/ "
   ]
  },
  {
   "cell_type": "code",
   "execution_count": 10,
   "metadata": {},
   "outputs": [
    {
     "data": {
      "text/plain": [
       "1.0"
      ]
     },
     "execution_count": 10,
     "metadata": {},
     "output_type": "execute_result"
    }
   ],
   "source": [
    "y_score = [1, 0, 0]\n",
    "y_true = [1, 0, 0]\n",
    "ndcg_score ([y_true], [y_score])"
   ]
  },
  {
   "cell_type": "markdown",
   "metadata": {},
   "source": [
    "### Washington Post – Sep 22, 2020 @ 18:55 UTC\n",
    "https://web.archive.org/web/20200922185544/https://www.washingtonpost.com/ "
   ]
  },
  {
   "cell_type": "code",
   "execution_count": 11,
   "metadata": {},
   "outputs": [
    {
     "data": {
      "text/plain": [
       "0.3937288153431494"
      ]
     },
     "execution_count": 11,
     "metadata": {},
     "output_type": "execute_result"
    }
   ],
   "source": [
    "y_score = [0, 0, 0, 1, 0, 0, 0, 0, 0, 0]\n",
    "y_true = [1, 0, 0, 0, 0, 0, 0, 0, 0, 0]\n",
    "ndcg_score ([y_true], [y_score])"
   ]
  },
  {
   "cell_type": "markdown",
   "metadata": {},
   "source": [
    "### CNN – Sep 22, 2020 @ 15:50 UTC\n",
    "https://web.archive.org/web/20200922155024/https://www.cnn.com/ "
   ]
  },
  {
   "cell_type": "code",
   "execution_count": 12,
   "metadata": {},
   "outputs": [
    {
     "data": {
      "text/plain": [
       "0.8502698646680341"
      ]
     },
     "execution_count": 12,
     "metadata": {},
     "output_type": "execute_result"
    }
   ],
   "source": [
    "y_score = [1, 1, 0, 0, 1, 0]\n",
    "y_true = [1, 1, 1, 0, 0, 0]\n",
    "ndcg_score ([y_true], [y_score])"
   ]
  },
  {
   "cell_type": "markdown",
   "metadata": {},
   "source": [
    "### ABC News – Sep 22, 2020 @ 16:07 UTC\n",
    "https://web.archive.org/web/20200922160725/https://abcnews.go.com/ "
   ]
  },
  {
   "cell_type": "code",
   "execution_count": 3,
   "metadata": {},
   "outputs": [
    {
     "data": {
      "text/plain": [
       "0.8584912361856167"
      ]
     },
     "execution_count": 3,
     "metadata": {},
     "output_type": "execute_result"
    }
   ],
   "source": [
    "y_score = [1, 1, 0, 1, 0]\n",
    "y_true = [1, 1, 1, 0, 0]\n",
    "ndcg_score ([y_true], [y_score])"
   ]
  },
  {
   "cell_type": "markdown",
   "metadata": {},
   "source": [
    "### Washington Examiner – Sep 22, 2020 @ 16:09 UTC\n",
    "https://web.archive.org/web/20200922160917/https://www.washingtonexaminer.com/ "
   ]
  },
  {
   "cell_type": "code",
   "execution_count": 14,
   "metadata": {},
   "outputs": [
    {
     "data": {
      "text/plain": [
       "0.46093326119748285"
      ]
     },
     "execution_count": 14,
     "metadata": {},
     "output_type": "execute_result"
    }
   ],
   "source": [
    "y_score = [0, 0, 1, 0, 0, 0]\n",
    "y_true = [1, 0, 0, 0, 0, 0]\n",
    "ndcg_score ([y_true], [y_score])"
   ]
  },
  {
   "cell_type": "markdown",
   "metadata": {},
   "source": [
    "### Fox News – Sep 22, 2020 @ 16:02 UTC\n",
    "https://web.archive.org/web/20200922160224/https://www.foxnews.com/"
   ]
  },
  {
   "cell_type": "code",
   "execution_count": 15,
   "metadata": {},
   "outputs": [
    {
     "data": {
      "text/plain": [
       "0.4396666065534579"
      ]
     },
     "execution_count": 15,
     "metadata": {},
     "output_type": "execute_result"
    }
   ],
   "source": [
    "y_score = [0, 0, 0, 0, 0, 1, 0]\n",
    "y_true = [1, 0, 0, 0, 0, 0, 0]\n",
    "ndcg_score ([y_true], [y_score])"
   ]
  },
  {
   "cell_type": "code",
   "execution_count": null,
   "metadata": {},
   "outputs": [],
   "source": []
  }
 ],
 "metadata": {
  "kernelspec": {
   "display_name": "Python 3",
   "language": "python",
   "name": "python3"
  },
  "language_info": {
   "codemirror_mode": {
    "name": "ipython",
    "version": 3
   },
   "file_extension": ".py",
   "mimetype": "text/x-python",
   "name": "python",
   "nbconvert_exporter": "python",
   "pygments_lexer": "ipython3",
   "version": "3.8.5"
  }
 },
 "nbformat": 4,
 "nbformat_minor": 4
}
